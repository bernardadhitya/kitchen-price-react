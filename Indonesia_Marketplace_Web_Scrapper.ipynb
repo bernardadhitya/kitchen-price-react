{
  "nbformat": 4,
  "nbformat_minor": 0,
  "metadata": {
    "colab": {
      "name": "Indonesia Marketplace Web Scrapper.ipynb",
      "provenance": [],
      "toc_visible": true
    },
    "kernelspec": {
      "name": "python3",
      "display_name": "Python 3"
    },
    "language_info": {
      "name": "python"
    }
  },
  "cells": [
    {
      "cell_type": "markdown",
      "metadata": {
        "id": "yxUrH0-f2169"
      },
      "source": [
        "### Preparations"
      ]
    },
    {
      "cell_type": "code",
      "metadata": {
        "colab": {
          "base_uri": "https://localhost:8080/"
        },
        "id": "Tgv6LTCh5FEK",
        "outputId": "d0ee615c-f414-4277-b894-831437cebe17"
      },
      "source": [
        "pip install scrapingant-client"
      ],
      "execution_count": 153,
      "outputs": [
        {
          "output_type": "stream",
          "text": [
            "Requirement already satisfied: scrapingant-client in /usr/local/lib/python3.7/dist-packages (0.3.4)\n",
            "Requirement already satisfied: requests<3,>=2 in /usr/local/lib/python3.7/dist-packages (from scrapingant-client) (2.23.0)\n",
            "Requirement already satisfied: chardet<4,>=3.0.2 in /usr/local/lib/python3.7/dist-packages (from requests<3,>=2->scrapingant-client) (3.0.4)\n",
            "Requirement already satisfied: urllib3!=1.25.0,!=1.25.1,<1.26,>=1.21.1 in /usr/local/lib/python3.7/dist-packages (from requests<3,>=2->scrapingant-client) (1.24.3)\n",
            "Requirement already satisfied: certifi>=2017.4.17 in /usr/local/lib/python3.7/dist-packages (from requests<3,>=2->scrapingant-client) (2020.12.5)\n",
            "Requirement already satisfied: idna<3,>=2.5 in /usr/local/lib/python3.7/dist-packages (from requests<3,>=2->scrapingant-client) (2.10)\n"
          ],
          "name": "stdout"
        }
      ]
    },
    {
      "cell_type": "code",
      "metadata": {
        "id": "GCbNQlsEF-_7"
      },
      "source": [
        "from bs4 import BeautifulSoup\n",
        "from scrapingant_client import ScrapingAntClient\n",
        "import pprint\n",
        "import pandas as pd"
      ],
      "execution_count": 154,
      "outputs": []
    },
    {
      "cell_type": "code",
      "metadata": {
        "id": "FSBgWOKsRn3B"
      },
      "source": [
        "total_results = []\n",
        "search_results = []"
      ],
      "execution_count": 155,
      "outputs": []
    },
    {
      "cell_type": "markdown",
      "metadata": {
        "id": "MD6rNjaT9k_P"
      },
      "source": [
        "### Shopee"
      ]
    },
    {
      "cell_type": "code",
      "metadata": {
        "id": "vbLsyhbK7PEE"
      },
      "source": [
        "def get_shopee_result(query):\n",
        "  processed_query = query.replace(' ', '%20').replace('&', '%26')\n",
        "  url = f\"https://shopee.co.id/search?keyword={processed_query}\"\n",
        "  client = ScrapingAntClient(token='26f4e43374b4417193ecb1a7a781bf42')\n",
        "\n",
        "  try:\n",
        "    page_content = client.general_request(url).content\n",
        "  except:\n",
        "    return\n",
        "\n",
        "  soup = BeautifulSoup(page_content)\n",
        "\n",
        "  contents = soup.find_all('div', {\"class\": \"shopee-search-item-result__item\"})\n",
        "\n",
        "  extracted_contents = []\n",
        "\n",
        "  for content in contents:\n",
        "    try:\n",
        "      if len(content.find_all(\"img\")) < 1:\n",
        "        break\n",
        "      extracted_content = {\n",
        "        'image': \"\",\n",
        "        'title': content.find(\"div\", {\"class\", \"yQmmFK _1POlWt _36CEnF\"}).text,\n",
        "        'url': f\"shopee.co.id{content.find('a')['href']}\",\n",
        "        'price': int(content.find('span', {\"class\", \"_29R_un\"}).text.replace('.','')),\n",
        "        'source': 'shopee',\n",
        "        'category': query\n",
        "      }\n",
        "      extracted_contents.append(extracted_content)\n",
        "      search_results.append(extracted_content)\n",
        "    except:\n",
        "      continue\n",
        "  \n",
        "  return extracted_contents"
      ],
      "execution_count": 157,
      "outputs": []
    },
    {
      "cell_type": "markdown",
      "metadata": {
        "id": "DcoE4Him-mbE"
      },
      "source": [
        "### Tokopedia"
      ]
    },
    {
      "cell_type": "code",
      "metadata": {
        "id": "XbhLlLJ7-lUd"
      },
      "source": [
        "def get_tokopedia_result(query):\n",
        "  processed_query = query.replace(' ', '%20').replace('&', '%26')\n",
        "  url = f\"https://www.tokopedia.com/search?st=product&q={processed_query}&navsource=home\"\n",
        "  client = ScrapingAntClient(token='26f4e43374b4417193ecb1a7a781bf42')\n",
        "\n",
        "  try:\n",
        "    page_content = client.general_request(url).content\n",
        "  except:\n",
        "    return\n",
        "\n",
        "  soup = BeautifulSoup(page_content)\n",
        "\n",
        "  contents = soup.find_all('div', {\"class\": \"css-12sieg3\"})\n",
        "\n",
        "  extracted_contents = []\n",
        "\n",
        "  image_boilerplate = 'data:image/png;base64,iVBORw0KGgoAAAANSUhEUgAAAHgAAAB4CAQAAACTbf5ZAAAAiklEQVR42u3PMQEAAAwCoNm/9Cr4Cw3IjYmwsLCwsLCwsLCwsLCwsLCwsLCwsLCwsLCwsLCwsLCwsLCwsLCwsLCwsLCwsLCwsLCwsLCwsLCwsLCwsLCwsLCwsLCwsLCwsLCwsLCwsLCwsLCwsLCwsLCwsLCwsLCwsLCwsLCwsLCwsLCwsLCwsHDrASUpAHnJhbktAAAAAElFTkSuQmCC'\n",
        "\n",
        "  for content in contents:\n",
        "    try:\n",
        "      if len(content.find_all(\"img\")) < 1:\n",
        "        break\n",
        "      extracted_content = {\n",
        "        'image': content.find_all(\"img\")[0]['src'] if len(content.find_all(\"img\")) >= 1 and content.find_all(\"img\")[0]['src'] != image_boilerplate else \"\",\n",
        "        'title': content.find(\"div\", {\"class\", \"css-18c4yhp\"}).text,\n",
        "        'url': content.find('a')['href'],\n",
        "        'price': int(content.find('div', {\"class\", \"css-rhd610\"}).text.split('Rp')[1].replace('.','').split(' ')[0]),\n",
        "        'source': 'tokopedia',\n",
        "        'category': query\n",
        "      }\n",
        "      extracted_contents.append(extracted_content)\n",
        "      search_results.append(extracted_content)\n",
        "    except:\n",
        "      continue\n",
        "\n",
        "  return extracted_contents"
      ],
      "execution_count": 158,
      "outputs": []
    },
    {
      "cell_type": "markdown",
      "metadata": {
        "id": "Ot1eSAZitxZp"
      },
      "source": [
        "### Blibli"
      ]
    },
    {
      "cell_type": "code",
      "metadata": {
        "id": "7mpip0TCgOfV"
      },
      "source": [
        "def get_blibli_result(query):\n",
        "  processed_query = query.replace(' ', '%20').replace('&', '%26')\n",
        "  url = f\"https://www.blibli.com/cari/{processed_query}\"\n",
        "  client = ScrapingAntClient(token='26f4e43374b4417193ecb1a7a781bf42')\n",
        "\n",
        "  try:\n",
        "    page_content = client.general_request(url).content\n",
        "  except:\n",
        "    return\n",
        "\n",
        "  soup = BeautifulSoup(page_content)\n",
        "\n",
        "  contents = soup.find_all('div', {\"class\": \"product__card product__card__five\"})\n",
        "\n",
        "  extracted_contents = []\n",
        "\n",
        "  image_boilerplate = 'https://www.static-src.com/frontend/catalog/static/img/img-placeholder.76652f6.png'\n",
        "\n",
        "  for content in contents:\n",
        "    try:\n",
        "      if len(content.find_all(\"img\")) < 1:\n",
        "        break\n",
        "      extracted_content = {\n",
        "        'image': content.find_all(\"img\")[1]['src'] if len(content.find_all(\"img\")) >= 1 and content.find_all(\"img\")[1]['src'] != image_boilerplate else \"\",\n",
        "        'title': content.find(\"div\", {\"class\", \"product__title\"})['title'],\n",
        "        'url': content.find('a')['href'],\n",
        "        'price': int(content.find('strong', {\"class\", \"product__body__price__display\"}).text.split('Rp')[1].split('\\n')[0].replace('.','')),\n",
        "        'source': 'blibli',\n",
        "        'category': query\n",
        "      }\n",
        "      extracted_contents.append(extracted_content)\n",
        "      search_results.append(extracted_content)\n",
        "    except:\n",
        "      continue\n",
        "\n",
        "  return extracted_contents"
      ],
      "execution_count": 159,
      "outputs": []
    },
    {
      "cell_type": "markdown",
      "metadata": {
        "id": "z91vchaVtuGm"
      },
      "source": [
        "### JD.ID"
      ]
    },
    {
      "cell_type": "code",
      "metadata": {
        "id": "JsRdanJbtti4"
      },
      "source": [
        "def get_jdid_result(query):\n",
        "  processed_query = query.replace(' ', '%20').replace('&', '%26')\n",
        "  url = f\"https://www.jd.id/search?keywords={processed_query}\"\n",
        "  client = ScrapingAntClient(token='26f4e43374b4417193ecb1a7a781bf42')\n",
        "\n",
        "  try:\n",
        "    page_content = client.general_request(url).content\n",
        "  except:\n",
        "    return\n",
        "\n",
        "  soup = BeautifulSoup(page_content)\n",
        "\n",
        "  contents = soup.find_all('a', {\"class\": \"sku-info\"})\n",
        "\n",
        "  extracted_contents = []\n",
        "\n",
        "  image_boilerplate = 'st.3.cn/ept/1.0.0/ui/css/i/blank.gif'\n",
        "\n",
        "  for content in contents:\n",
        "    try:\n",
        "      if len(content.find_all(\"img\")) < 1:\n",
        "        break\n",
        "      extracted_content = {\n",
        "        'image': content.find_all(\"img\")[0]['src'].split('//')[1] if len(content.find_all(\"img\")) >= 1 and content.find_all(\"img\")[0]['src'].split('//')[1] != image_boilerplate else \"\",\n",
        "        'title': content.find(\"div\", {\"class\", \"p-name\"})['title'],\n",
        "        'url': content['href'].split('//')[1],\n",
        "        'price': int(content.find('div', {\"class\", \"p-price-zj\"}).text.split('Rp ')[1].replace(',','')),\n",
        "        'source': 'jdid',\n",
        "        'category': query\n",
        "      }\n",
        "      extracted_contents.append(extracted_content)\n",
        "      search_results.append(extracted_content)\n",
        "    except:\n",
        "      continue\n",
        "  \n",
        "  return extracted_contents"
      ],
      "execution_count": 160,
      "outputs": []
    },
    {
      "cell_type": "markdown",
      "metadata": {
        "id": "NQKwDD1lxqiO"
      },
      "source": [
        "### Lazada"
      ]
    },
    {
      "cell_type": "code",
      "metadata": {
        "id": "MW0bvlWqxtEt"
      },
      "source": [
        "def get_lazada_result(query):\n",
        "  processed_query = query.replace(' ', '+').replace('&', '%26')\n",
        "  url = f\"https://www.lazada.co.id/catalog/?q={processed_query}\"\n",
        "  client = ScrapingAntClient(token='26f4e43374b4417193ecb1a7a781bf42')\n",
        "\n",
        "  try:\n",
        "    page_content = client.general_request(url).content\n",
        "  except:\n",
        "    return\n",
        "\n",
        "  soup = BeautifulSoup(page_content)\n",
        "\n",
        "  contents = soup.find_all('div', {\"class\": \"c3e8SH\"})\n",
        "  \n",
        "  extracted_contents = []\n",
        "\n",
        "  for content in contents:\n",
        "    try:\n",
        "      extracted_content = {\n",
        "        'image': content.find_all(\"img\")[0]['src'] if len(content.find_all(\"img\")) >= 1 else \"\",\n",
        "        'title': content.find(\"div\", {\"class\", \"c16H9d\"}).find(\"a\")['title'],\n",
        "        'url': 'https:' + content.find(\"div\", {\"class\", \"c16H9d\"}).find(\"a\")['href'],\n",
        "        'price': int(content.find(\"span\", {\"class\", \"c13VH6\"}).text.split('Rp')[1].split('\\n')[0].replace('.','')),\n",
        "        'source': 'bukalapak',\n",
        "        'category': query\n",
        "      }\n",
        "      extracted_contents.append(extracted_content)\n",
        "      search_results.append(extracted_content)\n",
        "    except:\n",
        "      continue\n",
        "\n",
        "  return extracted_contents"
      ],
      "execution_count": 161,
      "outputs": []
    },
    {
      "cell_type": "markdown",
      "metadata": {
        "id": "Rj0JBsVVCKex"
      },
      "source": [
        "### Bukalapak"
      ]
    },
    {
      "cell_type": "code",
      "metadata": {
        "id": "KfBbnQBzCKCd"
      },
      "source": [
        "def get_bukalapak_result(query):\n",
        "  processed_query = query.replace(' ', '%20').replace('&', '%26')\n",
        "  url = f\"https://www.bukalapak.com/products?search%5Bkeywords%5D={processed_query}\"\n",
        "  client = ScrapingAntClient(token='26f4e43374b4417193ecb1a7a781bf42')\n",
        "\n",
        "  try:\n",
        "    page_content = client.general_request(url).content\n",
        "  except:\n",
        "    return\n",
        "\n",
        "  soup = BeautifulSoup(page_content)\n",
        "\n",
        "  contents = soup.find_all('div', {\"class\": \"bl-product-card__wrapper\"})\n",
        "  \n",
        "  extracted_contents = []\n",
        "\n",
        "  for content in contents:\n",
        "    try:\n",
        "      extracted_content = {\n",
        "        'image': content.find_all(\"img\")[0]['src'] if len(content.find_all(\"img\")) >= 1 else \"\",\n",
        "        'title': content.find(\"div\", {\"class\", \"bl-product-card__description-name\"}).find(\"p\").find(\"a\").text,\n",
        "        'url': content.find(\"div\", {\"class\", \"bl-product-card__description-name\"}).find(\"p\").find(\"a\")['href'],\n",
        "        'price': int(content.find(\"div\", {\"class\", \"bl-product-card__description-price\"}).find(\"p\").text.split('Rp')[1].split('\\n')[0].replace('.','')),\n",
        "        'source': 'bukalapak',\n",
        "        'category': query\n",
        "      }\n",
        "      extracted_contents.append(extracted_content)\n",
        "      search_results.append(extracted_content)\n",
        "    except:\n",
        "      continue\n",
        "\n",
        "  return extracted_contents"
      ],
      "execution_count": 162,
      "outputs": []
    },
    {
      "cell_type": "markdown",
      "metadata": {
        "id": "Y3TKqwmCWRvp"
      },
      "source": [
        "### Multithread Scrapper"
      ]
    },
    {
      "cell_type": "code",
      "metadata": {
        "id": "h_2Y3UbSLImy"
      },
      "source": [
        "import numpy as np\n",
        "import time\n",
        "import threading\n",
        "import math\n",
        "\n",
        "def scrape_topic(query):\n",
        "  start_time = time.time()\n",
        "  search_results.clear()\n",
        "  thread_list = []\n",
        "\n",
        "  thread_list.append(threading.Thread(target=get_tokopedia_result, args=(query,)))\n",
        "  thread_list.append(threading.Thread(target=get_shopee_result, args=(query,)))\n",
        "  thread_list.append(threading.Thread(target=get_blibli_result, args=(query,)))\n",
        "  thread_list.append(threading.Thread(target=get_jdid_result, args=(query,)))\n",
        "  thread_list.append(threading.Thread(target=get_lazada_result, args=(query,)))\n",
        "  thread_list.append(threading.Thread(target=get_bukalapak_result, args=(query,)))\n",
        "\n",
        "  for thread in thread_list:\n",
        "      thread.start()\n",
        "\n",
        "  for thread in thread_list:\n",
        "      thread.join()\n",
        "\n",
        "\n",
        "  end_time = time.time()\n",
        "  print(f\"Topic: '{query}' -- Result: {len(search_results)} items -- Time taken: {str(end_time - start_time)} sec\")\n",
        "\n",
        "  total_results.extend(search_results)"
      ],
      "execution_count": 163,
      "outputs": []
    },
    {
      "cell_type": "markdown",
      "metadata": {
        "id": "_sBiypExVMED"
      },
      "source": [
        "### Execute Web Scraping"
      ]
    },
    {
      "cell_type": "code",
      "metadata": {
        "colab": {
          "base_uri": "https://localhost:8080/"
        },
        "id": "Hqyd19oaUMi-",
        "outputId": "6947f0d4-a9c0-454d-8011-65ea2c326f16"
      },
      "source": [
        "list_of_topics = [\n",
        "                  'Alat Pemotong Serbaguna',\n",
        "                  'Capit Makanan',\n",
        "                  'Celemek',\n",
        "                  'Chopper',\n",
        "                  'Grinder',\n",
        "                  'Gunting Dapur',\n",
        "                  'Korek Kompor',\n",
        "                  'Parutan',\n",
        "                  'Peeler',\n",
        "                  'Pelindung Tangan',\n",
        "                  'Pengasah Pisau',\n",
        "                  'Pisau Dapur',\n",
        "                  'Pisau Set',\n",
        "                  'Talenan',\n",
        "                  'Tatakan Gas',\n",
        "                  'Termometer Makanan &',\n",
        "                  'Minuman',\n",
        "                  'Timer Masak',\n",
        "                  'Coffee & Tea Maker',\n",
        "                  'Cotton Candy Maker',\n",
        "                  'Donut Maker',\n",
        "                  'Ice Cream & Yoghurt Maker',\n",
        "                  'Botol Minum',\n",
        "                  'Cetakan Bento',\n",
        "                  'Cup Bento',\n",
        "                  'Kotak Makan',\n",
        "                  'Lunch Box Set',\n",
        "                  'Rantang',\n",
        "                  'Tas Bekal',\n",
        "                  'Tas Botol',\n",
        "                  'Termos Air',\n",
        "                  'Blender',\n",
        "                  'Juicer',\n",
        "                  'Kompor Listrik',\n",
        "                  'Kulkas',\n",
        "                  'Microwave',\n",
        "                  'Mixer',\n",
        "                  'Oven',\n",
        "                  'Rice Cooker',\n",
        "                  'Slow Cooker',\n",
        "                  'Toaster',\n",
        "                  'Alumunium Foil',\n",
        "                  'Box Telur',\n",
        "                  'Cooler Box',\n",
        "                  'Food Display',\n",
        "                  'Food Warmer',\n",
        "                  'Ice Bucket',\n",
        "                  'Plastic Wrap',\n",
        "                  'Sealer Makanan',\n",
        "                  'Tempat Buah & Sayur',\n",
        "                  'Tempat Bumbu',\n",
        "                  'Tempat Roti',\n",
        "                  'Alat Pembuka Botol',\n",
        "                  'Alat Pembuka Kaleng',\n",
        "                  'Dispenser Air',\n",
        "                  'Pompa Galon',\n",
        "                  'Rak Dapur',\n",
        "                  'Rak Piring',\n",
        "                  'Regulator & Penghemat Gas',\n",
        "                  'Sarung Galon',\n",
        "                  'Sarung Kulkas',\n",
        "                  'Timbangan Dapur',\n",
        "                  'Water Purifier',\n",
        "                  'Cangkir',\n",
        "                  'Gelas & Mug',\n",
        "                  'Gelas Wine',\n",
        "                  'Nampan',\n",
        "                  'Peralatan Makan Set',\n",
        "                  'Peralatan Minum Set',\n",
        "                  'Piring Makan',\n",
        "                  'Piring & Mangkok Saji',\n",
        "                  'Pitcher Minuman',\n",
        "                  'Sedotan',\n",
        "                  'Sendok & Garpu Makan',\n",
        "                  'Cetakan Es & Pudding',\n",
        "                  'Deep Fryer',\n",
        "                  'Gelas Takar',\n",
        "                  'Gilingan Daging',\n",
        "                  'Griller',\n",
        "                  'Kompor',\n",
        "                  'Panci',\n",
        "                  'Saringan Masak',\n",
        "                  'Sendok Takar',\n",
        "                  'Spatula & Sutil',\n",
        "                  'Steamer',\n",
        "                  'Dish Dryer',\n",
        "                  'Sabut',\n",
        "                  'Saringan Cuci Piring',\n",
        "                  'Sikat Cuci Botol',\n",
        "                  'Sponge Cuci Piring',\n",
        "                  'Kursi Bar',\n",
        "                  'Kursi Makan Outdoor',\n",
        "                  'Kursi Ruang Makan',\n",
        "                  'Meja Bar',\n",
        "                  'Meja Makan Outdoor',\n",
        "                  'Meja Ruang Makan'\n",
        "                  ]\n",
        "\n",
        "for topic in list_of_topics:\n",
        "  scrape_topic(topic)"
      ],
      "execution_count": 164,
      "outputs": [
        {
          "output_type": "stream",
          "text": [
            "Topic: 'Alat Pemotong Serbaguna' -- Result: 135 items -- Time taken: 26.482614278793335 sec\n",
            "Topic: 'Capit Makanan' -- Result: 185 items -- Time taken: 26.96109700202942 sec\n",
            "Topic: 'Celemek' -- Result: 165 items -- Time taken: 27.117580890655518 sec\n",
            "Topic: 'Chopper' -- Result: 165 items -- Time taken: 26.570087432861328 sec\n",
            "Topic: 'Grinder' -- Result: 155 items -- Time taken: 26.78538751602173 sec\n",
            "Topic: 'Gunting Dapur' -- Result: 155 items -- Time taken: 27.15592622756958 sec\n",
            "Topic: 'Korek Kompor' -- Result: 164 items -- Time taken: 27.303160429000854 sec\n",
            "Topic: 'Parutan' -- Result: 161 items -- Time taken: 22.978986740112305 sec\n",
            "Topic: 'Peeler' -- Result: 155 items -- Time taken: 17.902020692825317 sec\n",
            "Topic: 'Pelindung Tangan' -- Result: 154 items -- Time taken: 27.217597246170044 sec\n",
            "Topic: 'Pengasah Pisau' -- Result: 155 items -- Time taken: 27.019312143325806 sec\n",
            "Topic: 'Pisau Dapur' -- Result: 165 items -- Time taken: 26.97412896156311 sec\n",
            "Topic: 'Pisau Set' -- Result: 165 items -- Time taken: 26.8909273147583 sec\n",
            "Topic: 'Talenan' -- Result: 165 items -- Time taken: 20.361659288406372 sec\n",
            "Topic: 'Tatakan Gas' -- Result: 94 items -- Time taken: 27.012588262557983 sec\n",
            "Topic: 'Termometer Makanan &' -- Result: 135 items -- Time taken: 26.92189645767212 sec\n",
            "Topic: 'Minuman' -- Result: 205 items -- Time taken: 27.011704444885254 sec\n",
            "Topic: 'Timer Masak' -- Result: 165 items -- Time taken: 26.96069884300232 sec\n",
            "Topic: 'Coffee & Tea Maker' -- Result: 154 items -- Time taken: 27.962611436843872 sec\n",
            "Topic: 'Cotton Candy Maker' -- Result: 165 items -- Time taken: 27.08340287208557 sec\n",
            "Topic: 'Donut Maker' -- Result: 165 items -- Time taken: 27.14065170288086 sec\n",
            "Topic: 'Ice Cream & Yoghurt Maker' -- Result: 101 items -- Time taken: 26.790336847305298 sec\n",
            "Topic: 'Botol Minum' -- Result: 185 items -- Time taken: 26.974290132522583 sec\n",
            "Topic: 'Cetakan Bento' -- Result: 185 items -- Time taken: 27.5747389793396 sec\n",
            "Topic: 'Cup Bento' -- Result: 125 items -- Time taken: 26.717844009399414 sec\n",
            "Topic: 'Kotak Makan' -- Result: 205 items -- Time taken: 26.706501960754395 sec\n",
            "Topic: 'Lunch Box Set' -- Result: 155 items -- Time taken: 27.047672033309937 sec\n",
            "Topic: 'Rantang' -- Result: 165 items -- Time taken: 27.39172077178955 sec\n",
            "Topic: 'Tas Bekal' -- Result: 155 items -- Time taken: 26.894997119903564 sec\n",
            "Topic: 'Tas Botol' -- Result: 155 items -- Time taken: 22.280113220214844 sec\n",
            "Topic: 'Termos Air' -- Result: 155 items -- Time taken: 26.95823621749878 sec\n",
            "Topic: 'Blender' -- Result: 164 items -- Time taken: 27.00943374633789 sec\n",
            "Topic: 'Juicer' -- Result: 155 items -- Time taken: 27.299498796463013 sec\n",
            "Topic: 'Kompor Listrik' -- Result: 185 items -- Time taken: 26.984742403030396 sec\n",
            "Topic: 'Kulkas' -- Result: 135 items -- Time taken: 27.00769352912903 sec\n",
            "Topic: 'Microwave' -- Result: 154 items -- Time taken: 27.311078548431396 sec\n",
            "Topic: 'Mixer' -- Result: 135 items -- Time taken: 27.00228452682495 sec\n",
            "Topic: 'Oven' -- Result: 155 items -- Time taken: 27.378670930862427 sec\n",
            "Topic: 'Rice Cooker' -- Result: 205 items -- Time taken: 26.973714590072632 sec\n",
            "Topic: 'Slow Cooker' -- Result: 154 items -- Time taken: 26.830621242523193 sec\n",
            "Topic: 'Toaster' -- Result: 205 items -- Time taken: 26.962201356887817 sec\n",
            "Topic: 'Alumunium Foil' -- Result: 135 items -- Time taken: 26.671997785568237 sec\n",
            "Topic: 'Box Telur' -- Result: 155 items -- Time taken: 27.457621335983276 sec\n",
            "Topic: 'Cooler Box' -- Result: 154 items -- Time taken: 27.10759472846985 sec\n",
            "Topic: 'Food Display' -- Result: 135 items -- Time taken: 17.849063396453857 sec\n",
            "Topic: 'Food Warmer' -- Result: 195 items -- Time taken: 27.299618244171143 sec\n",
            "Topic: 'Ice Bucket' -- Result: 151 items -- Time taken: 27.361552476882935 sec\n",
            "Topic: 'Plastic Wrap' -- Result: 195 items -- Time taken: 27.20091485977173 sec\n",
            "Topic: 'Sealer Makanan' -- Result: 155 items -- Time taken: 27.289865255355835 sec\n",
            "Topic: 'Tempat Buah & Sayur' -- Result: 135 items -- Time taken: 26.509873628616333 sec\n",
            "Topic: 'Tempat Bumbu' -- Result: 185 items -- Time taken: 26.47497534751892 sec\n",
            "Topic: 'Tempat Roti' -- Result: 162 items -- Time taken: 23.24900460243225 sec\n",
            "Topic: 'Alat Pembuka Botol' -- Result: 155 items -- Time taken: 26.944828033447266 sec\n",
            "Topic: 'Alat Pembuka Kaleng' -- Result: 155 items -- Time taken: 26.823588371276855 sec\n",
            "Topic: 'Dispenser Air' -- Result: 165 items -- Time taken: 27.186204433441162 sec\n",
            "Topic: 'Pompa Galon' -- Result: 205 items -- Time taken: 26.89384126663208 sec\n",
            "Topic: 'Rak Dapur' -- Result: 204 items -- Time taken: 26.969695568084717 sec\n",
            "Topic: 'Rak Piring' -- Result: 215 items -- Time taken: 27.0044264793396 sec\n",
            "Topic: 'Regulator & Penghemat Gas' -- Result: 160 items -- Time taken: 26.845597743988037 sec\n",
            "Topic: 'Sarung Galon' -- Result: 154 items -- Time taken: 26.89956760406494 sec\n",
            "Topic: 'Sarung Kulkas' -- Result: 154 items -- Time taken: 20.13298463821411 sec\n",
            "Topic: 'Timbangan Dapur' -- Result: 155 items -- Time taken: 26.867037296295166 sec\n",
            "Topic: 'Water Purifier' -- Result: 205 items -- Time taken: 26.727936267852783 sec\n",
            "Topic: 'Cangkir' -- Result: 155 items -- Time taken: 27.914984464645386 sec\n",
            "Topic: 'Gelas & Mug' -- Result: 155 items -- Time taken: 27.09481692314148 sec\n",
            "Topic: 'Gelas Wine' -- Result: 155 items -- Time taken: 27.295936822891235 sec\n",
            "Topic: 'Nampan' -- Result: 205 items -- Time taken: 26.560911417007446 sec\n",
            "Topic: 'Peralatan Makan Set' -- Result: 165 items -- Time taken: 26.960233688354492 sec\n",
            "Topic: 'Peralatan Minum Set' -- Result: 164 items -- Time taken: 26.194011449813843 sec\n",
            "Topic: 'Piring Makan' -- Result: 154 items -- Time taken: 27.07877230644226 sec\n",
            "Topic: 'Piring & Mangkok Saji' -- Result: 154 items -- Time taken: 27.10454511642456 sec\n",
            "Topic: 'Pitcher Minuman' -- Result: 154 items -- Time taken: 27.071909427642822 sec\n",
            "Topic: 'Sedotan' -- Result: 155 items -- Time taken: 18.544615268707275 sec\n",
            "Topic: 'Sendok & Garpu Makan' -- Result: 173 items -- Time taken: 27.289254188537598 sec\n",
            "Topic: 'Cetakan Es & Pudding' -- Result: 155 items -- Time taken: 26.97333002090454 sec\n",
            "Topic: 'Deep Fryer' -- Result: 155 items -- Time taken: 26.989393711090088 sec\n",
            "Topic: 'Gelas Takar' -- Result: 153 items -- Time taken: 26.7604079246521 sec\n",
            "Topic: 'Gilingan Daging' -- Result: 135 items -- Time taken: 26.475187063217163 sec\n",
            "Topic: 'Griller' -- Result: 165 items -- Time taken: 21.77141833305359 sec\n",
            "Topic: 'Kompor' -- Result: 165 items -- Time taken: 27.056299448013306 sec\n",
            "Topic: 'Panci' -- Result: 135 items -- Time taken: 26.462061643600464 sec\n",
            "Topic: 'Saringan Masak' -- Result: 179 items -- Time taken: 27.053645610809326 sec\n",
            "Topic: 'Sendok Takar' -- Result: 190 items -- Time taken: 26.999986171722412 sec\n",
            "Topic: 'Spatula & Sutil' -- Result: 155 items -- Time taken: 27.287454843521118 sec\n",
            "Topic: 'Steamer' -- Result: 164 items -- Time taken: 26.959187984466553 sec\n",
            "Topic: 'Dish Dryer' -- Result: 154 items -- Time taken: 26.92600131034851 sec\n",
            "Topic: 'Sabut' -- Result: 155 items -- Time taken: 26.98795437812805 sec\n",
            "Topic: 'Saringan Cuci Piring' -- Result: 215 items -- Time taken: 26.99927806854248 sec\n",
            "Topic: 'Sikat Cuci Botol' -- Result: 189 items -- Time taken: 26.98615050315857 sec\n",
            "Topic: 'Sponge Cuci Piring' -- Result: 204 items -- Time taken: 26.98111653327942 sec\n",
            "Topic: 'Kursi Bar' -- Result: 165 items -- Time taken: 27.117214679718018 sec\n",
            "Topic: 'Kursi Makan Outdoor' -- Result: 118 items -- Time taken: 27.06728959083557 sec\n",
            "Topic: 'Kursi Ruang Makan' -- Result: 116 items -- Time taken: 27.338271617889404 sec\n",
            "Topic: 'Meja Bar' -- Result: 165 items -- Time taken: 27.185160875320435 sec\n",
            "Topic: 'Meja Makan Outdoor' -- Result: 119 items -- Time taken: 26.955718994140625 sec\n",
            "Topic: 'Meja Ruang Makan' -- Result: 135 items -- Time taken: 26.51919388771057 sec\n"
          ],
          "name": "stdout"
        }
      ]
    },
    {
      "cell_type": "markdown",
      "metadata": {
        "id": "N0-1lMwtVa6B"
      },
      "source": [
        "### Export to csv"
      ]
    },
    {
      "cell_type": "code",
      "metadata": {
        "colab": {
          "base_uri": "https://localhost:8080/",
          "height": 978
        },
        "id": "x4qzxseBP63c",
        "outputId": "88e4d159-210d-421a-a327-1903d08cb5da"
      },
      "source": [
        "import pandas as pd\n",
        "\n",
        "df = pd.DataFrame.from_records(total_results)\n",
        "\n",
        "df.to_csv('indonesia_marketplace_kitchenware.csv', index=False)\n",
        "\n",
        "df"
      ],
      "execution_count": 167,
      "outputs": [
        {
          "output_type": "execute_result",
          "data": {
            "text/html": [
              "<div>\n",
              "<style scoped>\n",
              "    .dataframe tbody tr th:only-of-type {\n",
              "        vertical-align: middle;\n",
              "    }\n",
              "\n",
              "    .dataframe tbody tr th {\n",
              "        vertical-align: top;\n",
              "    }\n",
              "\n",
              "    .dataframe thead th {\n",
              "        text-align: right;\n",
              "    }\n",
              "</style>\n",
              "<table border=\"1\" class=\"dataframe\">\n",
              "  <thead>\n",
              "    <tr style=\"text-align: right;\">\n",
              "      <th></th>\n",
              "      <th>image</th>\n",
              "      <th>title</th>\n",
              "      <th>url</th>\n",
              "      <th>price</th>\n",
              "      <th>source</th>\n",
              "      <th>category</th>\n",
              "    </tr>\n",
              "  </thead>\n",
              "  <tbody>\n",
              "    <tr>\n",
              "      <th>0</th>\n",
              "      <td>https://images.tokopedia.net/img/cache/200-squ...</td>\n",
              "      <td>NICER DICER QUICK 5 in 1 Alat Pemotong Serbagu...</td>\n",
              "      <td>https://ta.tokopedia.com/promo/v1/clicks/8a-xg...</td>\n",
              "      <td>40000</td>\n",
              "      <td>tokopedia</td>\n",
              "      <td>Alat Pemotong Serbaguna</td>\n",
              "    </tr>\n",
              "    <tr>\n",
              "      <th>1</th>\n",
              "      <td>https://images.tokopedia.net/img/cache/200-squ...</td>\n",
              "      <td>NICER DICER QUICK 5 IN 1 ALAT PEMOTONG BUAH SA...</td>\n",
              "      <td>https://ta.tokopedia.com/promo/v1/clicks/8a-xg...</td>\n",
              "      <td>24000</td>\n",
              "      <td>tokopedia</td>\n",
              "      <td>Alat Pemotong Serbaguna</td>\n",
              "    </tr>\n",
              "    <tr>\n",
              "      <th>2</th>\n",
              "      <td>https://images.tokopedia.net/img/cache/200-squ...</td>\n",
              "      <td>Alat Pemotong Sayuran Multifungsi Parutan Serb...</td>\n",
              "      <td>https://ta.tokopedia.com/promo/v1/clicks/8a-xg...</td>\n",
              "      <td>60000</td>\n",
              "      <td>tokopedia</td>\n",
              "      <td>Alat Pemotong Serbaguna</td>\n",
              "    </tr>\n",
              "    <tr>\n",
              "      <th>3</th>\n",
              "      <td>https://images.tokopedia.net/img/cache/200-squ...</td>\n",
              "      <td>Alat Pemotong Sayur Serbaguna</td>\n",
              "      <td>https://ta.tokopedia.com/promo/v1/clicks/8a-xg...</td>\n",
              "      <td>130000</td>\n",
              "      <td>tokopedia</td>\n",
              "      <td>Alat Pemotong Serbaguna</td>\n",
              "    </tr>\n",
              "    <tr>\n",
              "      <th>4</th>\n",
              "      <td>https://images.tokopedia.net/img/cache/200-squ...</td>\n",
              "      <td>Alat Pemotong Multifungsi Serbaguna Sayur dan ...</td>\n",
              "      <td>https://ta.tokopedia.com/promo/v1/clicks/8a-xg...</td>\n",
              "      <td>86000</td>\n",
              "      <td>tokopedia</td>\n",
              "      <td>Alat Pemotong Serbaguna</td>\n",
              "    </tr>\n",
              "    <tr>\n",
              "      <th>...</th>\n",
              "      <td>...</td>\n",
              "      <td>...</td>\n",
              "      <td>...</td>\n",
              "      <td>...</td>\n",
              "      <td>...</td>\n",
              "      <td>...</td>\n",
              "    </tr>\n",
              "    <tr>\n",
              "      <th>15514</th>\n",
              "      <td></td>\n",
              "      <td>Kurai Makan ukiran Jati</td>\n",
              "      <td>https://www.lazada.co.id/products/kurai-makan-...</td>\n",
              "      <td>2850000</td>\n",
              "      <td>bukalapak</td>\n",
              "      <td>Meja Ruang Makan</td>\n",
              "    </tr>\n",
              "    <tr>\n",
              "      <th>15515</th>\n",
              "      <td></td>\n",
              "      <td>Kursi Makan Koin K6</td>\n",
              "      <td>https://www.lazada.co.id/products/kursi-makan-...</td>\n",
              "      <td>2350000</td>\n",
              "      <td>bukalapak</td>\n",
              "      <td>Meja Ruang Makan</td>\n",
              "    </tr>\n",
              "    <tr>\n",
              "      <th>15516</th>\n",
              "      <td></td>\n",
              "      <td>Kursi Makan Jati Bunga 1000</td>\n",
              "      <td>https://www.lazada.co.id/products/kursi-makan-...</td>\n",
              "      <td>2550000</td>\n",
              "      <td>bukalapak</td>\n",
              "      <td>Meja Ruang Makan</td>\n",
              "    </tr>\n",
              "    <tr>\n",
              "      <th>15517</th>\n",
              "      <td></td>\n",
              "      <td>kursi makan salina mewah set k4</td>\n",
              "      <td>https://www.lazada.co.id/products/kursi-makan-...</td>\n",
              "      <td>7000000</td>\n",
              "      <td>bukalapak</td>\n",
              "      <td>Meja Ruang Makan</td>\n",
              "    </tr>\n",
              "    <tr>\n",
              "      <th>15518</th>\n",
              "      <td></td>\n",
              "      <td>Kursi Makan Ganesa K6 Gold</td>\n",
              "      <td>https://www.lazada.co.id/products/kursi-makan-...</td>\n",
              "      <td>5750000</td>\n",
              "      <td>bukalapak</td>\n",
              "      <td>Meja Ruang Makan</td>\n",
              "    </tr>\n",
              "  </tbody>\n",
              "</table>\n",
              "<p>15519 rows × 6 columns</p>\n",
              "</div>"
            ],
            "text/plain": [
              "                                                   image  ...                 category\n",
              "0      https://images.tokopedia.net/img/cache/200-squ...  ...  Alat Pemotong Serbaguna\n",
              "1      https://images.tokopedia.net/img/cache/200-squ...  ...  Alat Pemotong Serbaguna\n",
              "2      https://images.tokopedia.net/img/cache/200-squ...  ...  Alat Pemotong Serbaguna\n",
              "3      https://images.tokopedia.net/img/cache/200-squ...  ...  Alat Pemotong Serbaguna\n",
              "4      https://images.tokopedia.net/img/cache/200-squ...  ...  Alat Pemotong Serbaguna\n",
              "...                                                  ...  ...                      ...\n",
              "15514                                                     ...         Meja Ruang Makan\n",
              "15515                                                     ...         Meja Ruang Makan\n",
              "15516                                                     ...         Meja Ruang Makan\n",
              "15517                                                     ...         Meja Ruang Makan\n",
              "15518                                                     ...         Meja Ruang Makan\n",
              "\n",
              "[15519 rows x 6 columns]"
            ]
          },
          "metadata": {
            "tags": []
          },
          "execution_count": 167
        }
      ]
    }
  ]
}